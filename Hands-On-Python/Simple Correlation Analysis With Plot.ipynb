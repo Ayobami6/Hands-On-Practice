{
 "cells": [
  {
   "cell_type": "code",
   "execution_count": 2,
   "id": "43f9d58c",
   "metadata": {},
   "outputs": [
    {
     "name": "stdout",
     "output_type": "stream",
     "text": [
      "Done!\n"
     ]
    }
   ],
   "source": [
    "import numpy as np\n",
    "import matplotlib.pyplot as plt\n",
    "print('Done!')"
   ]
  },
  {
   "cell_type": "code",
   "execution_count": null,
   "id": "a3008af9",
   "metadata": {},
   "outputs": [],
   "source": []
  },
  {
   "cell_type": "code",
   "execution_count": 4,
   "id": "082787fe",
   "metadata": {},
   "outputs": [],
   "source": [
    "height_cm = [145, 156, 135, 176, 189, 177]\n",
    "Age = [13, 22, 14, 25, 24, 23]"
   ]
  },
  {
   "cell_type": "code",
   "execution_count": 5,
   "id": "b5abf57b",
   "metadata": {},
   "outputs": [],
   "source": [
    "np_height_cm = np.array(height_cm)\n",
    "np_Age = np.array(Age)\n",
    "demo = np.column_stack((np_height_cm, np_Age))\n"
   ]
  },
  {
   "cell_type": "code",
   "execution_count": 7,
   "id": "2a97fb51",
   "metadata": {},
   "outputs": [
    {
     "name": "stdout",
     "output_type": "stream",
     "text": [
      "[[1.         0.88883423]\n",
      " [0.88883423 1.        ]]\n"
     ]
    }
   ],
   "source": [
    "print(np.corrcoef(demo[:, 0], demo[:, 1]))"
   ]
  },
  {
   "cell_type": "markdown",
   "id": "2ea467c9",
   "metadata": {},
   "source": [
    "This Gives the correlation coefficient of 0.89 which indicates that there is a strong positive correlation between the age and height of the respondents in the list."
   ]
  },
  {
   "cell_type": "code",
   "execution_count": 9,
   "id": "76807976",
   "metadata": {},
   "outputs": [
    {
     "data": {
      "text/plain": [
       "Text(0.5, 1.0, 'Relationship between Age and Height')"
      ]
     },
     "execution_count": 9,
     "metadata": {},
     "output_type": "execute_result"
    },
    {
     "data": {
      "image/png": "[encoded data removed]",
      "text/plain": [
       "<Figure size 432x288 with 1 Axes>"
      ]
     },
     "metadata": {
      "needs_background": "light"
     },
     "output_type": "display_data"
    }
   ],
   "source": [
    "plt.scatter(np_Age, np_height_cm)\n",
    "\n",
    "x_lab = \"Age\"\n",
    "y_lab = \"Height in cm\"\n",
    "\n",
    "plt.xlabel(x_lab)\n",
    "plt.ylabel(y_lab)\n",
    "plt.title(\"Relationship between Age and Height\")"
   ]
  },
  {
   "cell_type": "code",
   "execution_count": null,
   "id": "fd95ca12",
   "metadata": {},
   "outputs": [],
   "source": []
  }
 ],
 "metadata": {
  "kernelspec": {
   "display_name": "Python 3 (ipykernel)",
   "language": "python",
   "name": "python3"
  },
  "language_info": {
   "codemirror_mode": {
    "name": "ipython",
    "version": 3
   },
   "file_extension": ".py",
   "mimetype": "text/x-python",
   "name": "python",
   "nbconvert_exporter": "python",
   "pygments_lexer": "ipython3",
   "version": "3.9.7"
  }
 },
 "nbformat": 4,
 "nbformat_minor": 5
}
